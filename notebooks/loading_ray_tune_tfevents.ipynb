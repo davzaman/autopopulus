{
 "cells": [
  {
   "cell_type": "code",
   "execution_count": null,
   "metadata": {
    "execution": {
     "iopub.execute_input": "2021-03-11T23:40:33.659009Z",
     "iopub.status.busy": "2021-03-11T23:40:33.658533Z",
     "iopub.status.idle": "2021-03-11T23:40:33.667196Z",
     "shell.execute_reply": "2021-03-11T23:40:33.666147Z",
     "shell.execute_reply.started": "2021-03-11T23:40:33.658960Z"
    }
   },
   "outputs": [],
   "source": [
    "from tensorflow.python.summary.summary_iterator import summary_iterator\n",
    "base = \"/home/miniconda3/envs/ap/.guild/runs/9788c2ae932d4613bd58ee7d82ac1a3e\"\n",
    "tfevents = \"/tune_results/myexperiment/_inner_e1bc3_00000_0_hidden_layers=[0.5, 0.25, 0.5],l2_penalty=0.0025084,learning_rate=1.0369e-05,max_epochs=1,patience=5_2021-03-08_23-48-48/full/vae_ifac/events.out.tfevents.1615276130.lambda2\"\n",
    "for summary in summary_iterator(base + tfevents):\n",
    "    for step, v in enumerate(summary.summary.value):\n",
    "        if \"ray/tune\" in v.tag:\n",
    "            v.tag = v.tag[len(\"ray/tune\")+1:]  # remove ray/tune/\n",
    "            print(f\"Step {step}\")\n",
    "            print(v.tag)\n",
    "            print(v.simple_value)"
   ]
  }
 ],
 "metadata": {
  "kernelspec": {
   "display_name": "ap_new",
   "language": "python",
   "name": "ap_new"
  },
  "language_info": {
   "codemirror_mode": {
    "name": "ipython",
    "version": 3
   },
   "file_extension": ".py",
   "mimetype": "text/x-python",
   "name": "python",
   "nbconvert_exporter": "python",
   "pygments_lexer": "ipython3",
   "version": "3.8.8"
  }
 },
 "nbformat": 4,
 "nbformat_minor": 5
}